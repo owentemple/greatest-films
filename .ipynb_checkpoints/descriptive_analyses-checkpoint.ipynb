{
 "cells": [
  {
   "cell_type": "code",
   "execution_count": 1,
   "metadata": {
    "collapsed": true
   },
   "outputs": [],
   "source": [
    "import csv\n"
   ]
  },
  {
   "cell_type": "code",
   "execution_count": 10,
   "metadata": {
    "collapsed": true
   },
   "outputs": [],
   "source": [
    "f = open(\"master_list_greatest_films.csv\",\"rU\")"
   ]
  },
  {
   "cell_type": "code",
   "execution_count": 11,
   "metadata": {
    "collapsed": false
   },
   "outputs": [],
   "source": [
    "films = list(csv.reader(f))\n"
   ]
  },
  {
   "cell_type": "code",
   "execution_count": 12,
   "metadata": {
    "collapsed": false
   },
   "outputs": [
    {
     "name": "stdout",
     "output_type": "stream",
     "text": [
      "[['imdb_id', 'rank_afc_2007', 'rank_afc_1998', 'rank_wga_2005', 'rank_ss_2012', 'included_in_guardian_list', 'included_in_1001_book', 'title', 'year', 'rated', 'released', 'runtime', 'genre', 'director', 'writer', 'actors', 'plot', 'language', 'country', 'awards', 'poster', 'metascore', 'imdb_rating', 'imdb_votes', 'alternate_title'], ['tt0000417', '', '', '', '', '', 'TRUE', 'A Trip to the Moon', '1902', 'TV-G', '4-Oct-02', '13 min', 'Short, Adventure, Fantasy', 'Georges M_\\xa9li_\\xc6s', 'N/A', 'Fran__ois Lallement, Jules-Eug_\\xc6ne Legris', 'A group of astronomers go on an expedition to the Moon.', 'N/A', 'France', 'N/A', 'http://ia.media-imdb.com/images/M/MV5BMTQzMDYxNzUxNl5BMl5BanBnXkFtZTgwMjgxNjkxMTE@._V1_SX300.jpg', 'N/A', '8.2', '28,826', 'Trip to the Moon, A (La voyage dans la lune)'], ['tt0000439', '', '', '', '', '', 'TRUE', 'The Great Train Robbery', '1903', 'TV-G', '1-Dec-03', '11 min', 'Short, Action, Crime', 'Edwin S. Porter', 'N/A', \"A.C. Abadie, Gilbert M. 'Broncho Billy' Anderson, George Barnes, Justus D. Barnes\", 'A group of bandits stage a brazen train hold-up, only to find a determined posse hot on their heels.', 'English', 'USA', '1 win.', 'https://images-na.ssl-images-amazon.com/images/M/MV5BZjE1MjdiZjgtYmYzMy00OWY2LWJiYWUtYmFhNWMyM2Y3ZDRlXkEyXkFqcGdeQXVyMTYxNjkxOQ@@._V1_SX300.jpg', 'N/A', '7.3', '11,609', 'Great Train Robbery, The'], ['tt0004972', '', '44', '', '', '', 'TRUE', 'The Birth of a Nation', '1915', 'NOT RATED', '3-Mar-15', '165 min', 'Drama, History, War', 'D.W. Griffith', 'Thomas Dixon Jr. (adapted from his novel: \"The Clansman: An Historical Romance of the Ku Klux Klan\"), Thomas Dixon Jr. (play), Thomas Dixon Jr. (novel), D.W. Griffith, Frank E. Woods', 'Lillian Gish, Mae Marsh, Henry B. Walthall, Miriam Cooper', \"The American Civil War divides friends and destroys families, but that's nothing compared to the anarchy in the black-ruled South after the war.\", 'N/A', 'USA', '2 wins.', 'http://ia.media-imdb.com/images/M/MV5BMTY0ODUwNDc3NV5BMl5BanBnXkFtZTgwNDE3NTU4MDE@._V1_SX300.jpg', 'N/A', '6.8', '16,954', 'Birth Of A Nation, The'], ['tt0006206', '', '', '', '', 'TRUE', 'TRUE', 'Les vampires', '1915', 'NOT RATED', '23-Nov-16', '421 min', 'Action, Adventure, Crime', 'Louis Feuillade', 'Louis Feuillade', 'Musidora, _\\x82douard Math_\\xa9, Marcel L_\\xa9vesque, Jean Aym_\\xa9', 'An intrepid reporter and his loyal friend battle a bizarre secret society of criminals known as The Vampires.', 'French', 'France', '1 nomination.', 'https://images-na.ssl-images-amazon.com/images/M/MV5BMTc1NTY3NDIzNl5BMl5BanBnXkFtZTgwNTIyODg5MTE@._V1_UY268_CR5,0,182,268_AL_.jpg', 'N/A', '6.8', '3,139', 'Les Vampires (The Vampires)'], ['tt0006864', '49', '', '', '', '', 'TRUE', \"Intolerance: Love's Struggle Throughout the Ages\", '1916', 'NOT RATED', '5-Sep-16', '197 min', 'Drama, History, War', 'D.W. Griffith', 'D.W. Griffith (scenario), Anita Loos (titles)', 'Lillian Gish, Mae Marsh, Robert Harron, F.A. Turner', 'The story of a poor young woman, separated by prejudice from her husband and baby, is interwoven with tales of intolerance from throughout history.', 'N/A', 'USA', '1 win.', 'http://ia.media-imdb.com/images/M/MV5BMjM5Nzg2MTc3NF5BMl5BanBnXkFtZTgwODg0NDU5MTE@._V1_SX300.jpg', 'N/A', '8', '10,759', 'Intolerance'], ['tt0009968', '', '', '', '', '', 'TRUE', 'Broken Blossoms', '1919', 'NOT RATED', '20-Oct-19', '90 min', 'Drama', 'D.W. Griffith', 'Thomas Burke (adapted from a story by), D.W. Griffith', 'Lillian Gish, Richard Barthelmess, Donald Crisp, Arthur Howard', \"A frail waif, abused by her brutal boxer father in London's seedy Limehouse District, is befriended by a sensitive Chinese immigrant with tragic consequences.\", 'N/A', 'USA', '1 win.', 'http://ia.media-imdb.com/images/M/MV5BMjA5NjY4OTYwNV5BMl5BanBnXkFtZTgwODMwNzk5MTE@._V1_SX300.jpg', 'N/A', '7.6', '7,128', 'Broken Blossoms'], ['tt0010323', '', '', '', '', 'TRUE', 'TRUE', 'The Cabinet of Dr. Caligari', '1920', 'UNRATED', '19-Mar-21', '67 min', 'Fantasy, Horror, Mystery', 'Robert Wiene', 'Carl Mayer (story and screen play by), Hans Janowitz (story and screen play by)', 'Werner Krauss, Conrad Veidt, Friedrich Feher, Lil Dagover', 'Hypnotist Dr. Caligari uses a somnambulist, Cesare, to commit murders.', 'German', 'Germany', 'N/A', 'https://images-na.ssl-images-amazon.com/images/M/MV5BMTY1NzIxOTcxM15BMl5BanBnXkFtZTgwMjY0ODgwNzE@._V1_SX300.jpg', 'N/A', '8.1', '39,648', 'Cabinet of Dr. Caligari, The (Das Kabinett des Doktor Caligari)'], ['tt0011841', '', '', '', '', '', 'TRUE', 'Way Down East', '1920', 'NOT RATED', '3-Sep-20', '145 min', 'Drama, Romance', 'D.W. Griffith', 'Lottie Blair Parker (from the play by), William A. Brady (play), Joseph R. Grismer (elaborated by), Anthony Paul Kelly (scenario by)', 'Lillian Gish, Richard Barthelmess, Mrs. David Landau, Lowell Sherman', 'A naive country girl is tricked into a sham marriage by a wealthy womanizer, then must rebuild her life despite the taint of having borne a child out of wedlock.', 'N/A', 'USA', 'N/A', 'http://ia.media-imdb.com/images/M/MV5BMjI5OTI3NTQ4NV5BMl5BanBnXkFtZTgwNDY3NTAwMjE@._V1_SX300.jpg', 'N/A', '7.9', '3,835', 'Way Down East'], ['tt0011870', '', '', '', '', '', 'TRUE', 'Within Our Gates', '1920', 'N/A', '12-Jan-20', '79 min', 'Drama, Romance', 'Oscar Micheaux', 'Oscar Micheaux', 'Evelyn Preer, Flo Clements, James D. Ruffin, Jack Chenault', 'Abandoned by her fianc_\\xa9, an educated black woman with a shocking past dedicates herself to helping a near bankrupt school for impoverished black youths.', 'N/A', 'USA', '1 win.', 'http://ia.media-imdb.com/images/M/MV5BOGZhYjk2ZjAtYzU5Ny00YWM0LWEyMWEtNmIwMTE4Yjk0NzkxXkEyXkFqcGdeQXVyNTAzNTYzMDQ@._V1_SX300.jpg', 'N/A', '6.3', '1,331', 'Within Our Gates']]\n"
     ]
    }
   ],
   "source": [
    "print(films[0:10])"
   ]
  },
  {
   "cell_type": "code",
   "execution_count": 14,
   "metadata": {
    "collapsed": false
   },
   "outputs": [
    {
     "name": "stdout",
     "output_type": "stream",
     "text": [
      "{'Luchino Visconti': 5, 'Phillip Noyce': 1, 'Tobe Hooper': 2, 'V__ctor Erice': 1, 'Jir__ Menzel': 1, 'George Cukor': 6, 'Ming-liang Tsai': 1, 'Mike Leigh': 1, 'Brian G. Hutton': 1, 'Peter Fonda': 1, 'Norman Z. McLeod': 2, 'Godfrey Reggio': 1, 'David Zucker': 1, 'Hal Hartley': 2, 'William A. Wellman': 2, 'Paul Haggis': 1, 'Henry Hathaway': 1, 'Werner Herzog': 5, 'Stanley Donen, Gene Kelly': 2, 'Robert Aldrich': 2, 'Michael Mann': 4, 'Samuel Armstrong, Norman Ferguson, Wilfred Jackson, Jack Kinney, Bill Roberts, Ben Sharpsteen, John Elliotte': 1, 'William A. Seiter': 1, 'Paul Schrader': 1, 'Ridley Scott': 4, 'John Sturges': 3, 'Anatole Litvak': 1, 'Albert Lewin': 1, 'Jacques Tati': 3, 'Guillermo del Toro': 1, 'Kevin Smith': 1, 'Fax Bahr, George Hickenlooper, Eleanor Coppola': 1, 'Agn_\\xc6s Varda': 3, 'Carol Reed': 2, 'John Mackenzie': 1, 'John Badham': 1, 'Wojciech Has': 1, 'Kenneth Anger': 1, 'Wes Craven': 3, 'Jean Vigo': 2, 'Jim Sharman': 1, 'Jack Arnold': 1, 'Alejandro Amen__bar': 1, 'Perry Henzell': 1, 'Paul Thomas Anderson': 3, 'Pawel Pawlikowski': 1, 'Todd Solondz': 1, 'John Guillermin': 1, 'Wim Wenders': 3, 'Buster Keaton': 2, 'Philippe Grandrieux': 1, 'John G. Avildsen': 1, 'Lee Unkrich': 1, 'John Huston': 9, 'Gus Van Sant': 3, 'John Lasseter, Ash Brannon, Lee Unkrich': 1, 'Marguerite Duras': 1, 'Yonggang Wu': 1, 'Stephen Frears': 2, 'Jonathan Demme': 2, 'Aleksandr Dovzhenko': 1, 'Alejandro Jodorowsky': 1, 'Patricio Guzm__n': 1, 'Ren_\\xa9 Clair': 2, 'Gareth Edwards': 1, 'Jafar Panahi': 1, 'Frank Borzage': 1, 'Gordon Parks': 1, 'Terence Fisher': 1, 'Delbert Mann': 1, 'Guy Maddin': 1, 'Fran__ois Truffaut': 5, 'Fernando Meirelles, K__tia Lund': 1, 'Grigori Aleksandrov, Sergei M. Eisenstein': 1, 'Danny Boyle': 1, 'Sam Raimi': 2, 'John McNaughton': 1, 'Robert Redford': 1, 'Busby Berkeley': 1, 'Germaine Dulac': 1, 'Jean Cocteau': 1, 'Abel Gance': 2, 'Robert Stevenson': 1, 'Darren Aronofsky': 4, 'Kathryn Bigelow': 2, 'Denys Arcand': 2, 'Sofia Coppola': 1, 'Atom Egoyan': 1, 'Sh_\\x95hei Imamura': 1, 'William Cottrell, David Hand, Wilfred Jackson, Larry Morey, Perce Pearce, Ben Sharpsteen': 1, 'Peter Bogdanovich': 2, 'Jacques Becker': 1, 'Humphrey Jennings': 1, 'Luis Bu_\\xb1uel': 10, 'Wayne Wang, Paul Auster': 1, 'Ken Loach': 1, 'Neill Blomkamp': 1, 'Melvin Van Peebles': 1, 'Chris Marker': 2, 'David Lynch': 4, 'Leo McCarey': 4, 'Geoff Murphy': 2, 'Terry Gilliam, Terry Jones': 1, 'Charles Reisner, Buster Keaton': 1, 'N/A': 2, 'Ernst Lubitsch': 3, 'Lowell Sherman': 1, 'Jay Roach': 1, 'Mikhail Kalatozov': 1, 'Ki-young Kim': 1, 'Alberto Cavalcanti, Charles Crichton, Basil Dearden, Robert Hamer': 1, 'Kevin Macdonald': 1, 'Martin Ritt': 2, 'Douglas Sirk': 2, 'Sam Wood, Edmund Goulding': 1, 'Quentin Tarantino, Eli Roth': 1, 'Franz Osten': 1, 'Ritwik Ghatak': 2, 'John McTiernan': 1, 'Harold Ramis': 1, 'Robert Wiene': 1, 'Barbet Schroeder': 1, 'James Foley': 1, 'Garry Marshall': 1, 'D.W. Griffith': 5, 'Fran__ois Girard': 1, 'George Kuchar': 1, 'Carlos Saura': 1, 'Kar-Wai Wong': 3, 'Elem Klimov': 1, 'Billy Wilder': 6, 'Terrence Malick': 4, 'Takashi Miike': 1, 'Costa-Gavras': 1, 'Joseph H. Lewis': 1, 'Andy Warhol': 1, 'George Waggner': 1, 'Abraham Polonsky': 1, 'Marcel Pagnol': 1, 'Zhuangzhuang Tian, Peicheng Pan': 1, 'Chan-wook Park': 1, 'Charles Laughton, Robert Mitchum, Terry Sanders': 1, 'Lone Scherfig': 1, 'Nabil Ayouch': 1, 'Paul Feig': 1, 'Amy Heckerling': 2, 'Katsuhiro _\\xd3tomo': 1, 'Philip Kaufman': 1, 'Richard Lester': 1, 'Alexander Mackendrick': 3, 'Florian Henckel von Donnersmarck': 1, 'Wolfgang Petersen': 1, 'Lino Brocka': 1, 'Clint Eastwood': 4, 'Mikl__s Jancs__': 2, 'Rainer Werner Fassbinder': 5, 'Gian Luigi Polidoro': 1, 'Gregory La Cava': 1, 'Ivan Reitman': 1, 'Lloyd Bacon': 2, 'Roger Donaldson': 1, 'Clarence Brown': 1, 'Luc Besson': 1, 'Curtis Hanson': 1, 'Vera Chytilov__': 1, 'Julian Schnabel': 1, 'Raoul Walsh': 4, 'Ron Shelton': 1, 'Aditya Chopra': 1, 'Joseph L. Mankiewicz': 5, 'George Sluizer': 1, 'Michael Haneke': 5, 'Michael Tolkin': 1, 'Roger Allers, Rob Minkoff': 1, 'Alan Crosland': 1, 'Otto Preminger': 5, 'Scott Hicks': 1, 'Victor Sj__str__m': 1, 'Forugh Farrokhzad': 1, 'Spike Lee': 2, 'James Benning': 1, 'Volker Schl__ndorff': 1, 'Weibang Ma-Xu': 1, 'Kira Muratova': 1, 'James Marsh': 1, 'Sydney Pollack': 2, 'Jerome Robbins, Robert Wise': 1, 'Anthony Minghella': 1, 'Arthur Penn': 2, 'Edgar Wright': 1, 'Howard Hawks, Arthur Rosson': 1, 'Lou Adler, Tommy Chong': 1, 'Ray Lawrence': 1, 'Abbas Kiarostami': 4, 'Emile de Antonio': 1, 'John Sayles': 1, 'Blake Edwards': 1, 'Fritz Lang': 5, 'Jean Cocteau, Ren_\\xa9 Cl_\\xa9ment': 1, 'Karel Reisz': 1, 'Zhuangzhuang Tian': 1, 'Ken Jacobs': 1, 'Paolo Cavara, Gualtiero Jacopetti, Franco Prosperi': 1, 'Jerzy Skolimowski': 1, 'Louis Feuillade': 1, 'Milos Forman': 3, 'Alejandro G. I_\\xb1__rritu': 3, 'Ermanno Olmi': 1, 'Ingmar Bergman': 11, 'Mike Hodges': 1, 'James Gunn': 1, 'Krzysztof Kieslowski': 3, 'Sean Penn': 1, 'Norman Ferguson, T. Hee, Wilfred Jackson, Jack Kinney, Hamilton Luske, Bill Roberts, Ben Sharpsteen': 1, 'Souleymane Ciss_\\xa9': 1, 'David Fincher': 5, 'Edgar Morin, Jean Rouch': 1, 'Michael Curtiz': 5, 'Ethan Coen, Joel Coen': 3, 'Hark Tsui': 2, 'Steve McQueen': 2, 'Fred M. Wilcox': 1, 'Youssef Chahine': 1, 'Daniel Myrick, Eduardo S__nchez': 1, 'Kenji Mizoguchi': 3, 'Adrian Lyne': 2, 'M. Night Shyamalan': 2, 'Nuri Bilge Ceylan': 1, 'Orson Welles, Fred Fleck, Robert Wise': 1, 'Hugh Hudson': 1, 'Benjamin Christensen': 1, 'Andrew Stanton': 1, 'Paolo Sorrentino': 2, 'Robert Zemeckis': 4, 'Alfred Hitchcock': 19, 'Siu-Tung Ching': 1, 'Andrey Zvyagintsev': 1, 'Larry Charles': 1, 'Marlon Brando': 1, 'Sidney Lumet': 5, 'Wolfgang Reitherman': 1, 'Jim Jarmusch': 3, 'Lana Wachowski, Lilly Wachowski': 1, 'Allan Dwan': 1, 'Claude Lanzmann': 1, 'Bernardo Bertolucci': 5, 'John Hughes': 2, 'Bryan Singer': 1, 'Isao Takahata': 1, 'Richard Attenborough': 1, 'Oscar Micheaux': 1, 'Catherine Breillat': 1, 'Edward F. Cline': 1, 'Terry Jones': 1, 'W.S. Van Dyke': 1, 'Albert Maysles, David Maysles, Charlotte Zwerin': 1, 'Dariush Mehrjui': 1, 'Michael Moore': 2, 'Andrei Tarkovsky': 4, 'Peter Greenaway': 4, 'John Dahl': 1, 'John Lasseter': 1, 'John G. Blystone, Buster Keaton': 1, 'Michael Cimino': 1, 'Charles Crichton': 1, 'Don Siegel': 2, 'Derek Jarman': 1, 'Steven Soderbergh': 2, 'John Ford': 9, 'Victor Fleming, George Cukor, Sam Wood': 1, 'Stanley Kramer': 2, 'Victor Fleming': 1, 'Dennis Hopper': 1, 'Anselmo Duarte': 1, 'Roland Joff_\\xa9': 1, 'Mu Fei': 1, 'Erich von Stroheim': 2, 'Kon Ichikawa': 3, 'Jack Clayton': 1, 'Robert Rossen': 1, 'Nicolas Winding Refn': 1, 'Tom Hooper': 2, 'Joris Ivens': 1, 'Gregory Nava': 1, 'Joon-ho Bong': 1, 'Vsevolod Pudovkin': 1, 'Mel Gibson': 3, 'Bob Fosse': 2, 'Lindsay Anderson': 1, 'Bruce Robinson': 1, 'Charles Walters': 1, 'Leni Riefenstahl': 3, 'Baz Luhrmann': 2, 'Stephan Elliott': 1, 'Francesco Rosi': 2, 'Dziga Vertov': 1, 'Mark Robson': 1, 'George A. Romero': 2, 'Louis Malle': 3, 'Warren Beatty': 1, 'Nick Broomfield': 1, 'Robert Wise': 3, 'Nicholas Ray': 4, 'Hector Babenco': 1, 'Jim Abrahams, David Zucker, Jerry Zucker': 1, 'Lewis Milestone': 1, 'Maya Deren, Alexander Hammid': 1, 'Christopher Morris': 1, 'Ren_\\xa9 Laloux': 1, 'Martin Scorsese': 13, 'J__n Kad__r, Elmar Klos': 1, 'Steve James': 1, 'Thorold Dickinson': 1, 'Tony Scott': 1, 'Roger Corman': 1, 'Julien Duvivier': 1, 'Hany Abu-Assad': 1, 'Konstantin Ershov, Georgiy Kropachyov': 1, 'Hsiao-Hsien Hou, Jia-hua Lao, Li-Yin Yang, Hsiao-ming Hsu': 1, 'Jim McBride': 1, 'Josef von Sternberg': 3, 'Cameron Crowe': 2, 'Sergei Parajanov': 2, 'Tim Burton': 2, 'Robert Clouse': 1, 'Georges Franju': 1, 'Jean-Daniel Pollet, Volker Schl__ndorff': 1, 'Woody Allen': 8, 'Paul Greengrass': 2, 'Lars von Trier': 3, 'Laurent Cantet': 1, 'Drew Goddard': 1, 'Shirley Clarke': 1, 'Amos Gitai': 1, 'Albert Brooks': 1, 'Max Oph__ls': 4, 'Mike Nichols': 2, 'Preston Sturges': 4, 'Barry Levinson': 3, 'Andrzej Wajda': 3, 'Carl Theodor Dreyer': 4, 'Michael Wadleigh': 1, 'Donald Cammell, Nicolas Roeg': 1, 'Jacques Rivette': 2, 'Orson Welles': 6, 'Carl Reiner': 1, 'Thomas Vinterberg': 1, 'Jean-Jacques Beineix': 1, '_\\x82ric Rohmer': 2, 'Pedro Almod__var': 4, 'Abdellatif Kechiche': 1, 'James Cameron': 5, 'Takeshi Kitano': 1, 'Terence Davies': 1, 'Hideo Nakata': 1, 'Alan J. Pakula': 3, 'Sang-Jin Kim': 1, 'Peter Watkins': 1, 'Budd Boetticher': 1, 'William Dieterle': 1, 'P.J. Hogan': 1, 'Robert Siodmak': 1, 'Nagisa _\\xd3shima': 2, 'Yasujir_\\x95 Ozu': 4, 'Aki Kaurism__ki': 2, 'Ted Wilde, J.A. Howe, Harold Lloyd, Lewis Milestone': 1, 'Paul Verhoeven': 6, 'Rob Marshall': 1, 'Mario Peixoto': 1, 'Samuel Fuller': 3, 'Zhangke Jia': 1, 'Richard Linklater': 5, 'Claude Chabrol': 3, 'Marcel Carn_\\xa9': 2, 'Merian C. Cooper, Ernest B. Schoedsack': 1, 'Theodoros Angelopoulos': 2, 'F.W. Murnau': 4, 'Siddiq Barmak': 1, 'Joshua Oppenheimer, Anonymous, Christine Cynn': 1, 'Peter Weir': 4, 'Elaine May': 1, 'Herbert J. Biberman': 1, 'Mike Newell': 1, 'Ang Lee': 5, 'Hsiao-Hsien Hou': 1, 'Jacques Tourneur': 3, 'Hans Petter Moland': 1, 'Jonathan Dayton, Valerie Faris': 1, 'Radu Mihaileanu': 1, 'Gillian Armstrong': 1, 'Larisa Shepitko': 1, 'John Cassavetes': 4, 'William Wyler': 7, 'Jack Smith': 1, 'King Vidor, George W. Hill': 1, 'Tran Anh Hung': 1, 'Irving Rapper': 1, 'Howard Hawks': 9, 'Asghar Farhadi': 1, 'Fred Zinnemann': 3, 'Kaige Chen': 1, 'Harry Smith': 1, 'Frank Lloyd': 1, 'Sam Mendes': 2, 'Jacques Demy': 2, 'Mel Brooks': 3, 'Jean-Luc Godard': 9, 'James Whale': 2, 'Franklin J. Schaffner': 3, 'Terry Gilliam': 1, 'Howard Hawks, Richard Rosson': 1, 'Michel Gondry': 1, 'Ben Affleck': 1, 'Joe Wright': 1, 'Charles Crichton, John Cleese': 1, 'Yimou Zhang': 3, 'Ted Kotcheff': 1, 'Nicolas Roeg': 3, 'Victor Fleming, George Cukor, Mervyn LeRoy, Norman Taurog, King Vidor': 1, 'Jacques Audiard': 1, 'B_\\xa9la Tarr': 1, 'William Friedkin': 2, 'Georg Wilhelm Pabst': 1, 'Rupert Julian, Lon Chaney, Ernst Laemmle, Edward Sedgwick': 1, 'Herbert G. Ponting': 1, 'Errol Morris': 2, 'Barbara Loden': 1, 'Nick Broomfield, Joan Churchill': 1, 'Rouben Mamoulian': 2, 'Gavin Hood': 1, 'Mel Stuart': 1, 'Marlon Riggs': 1, 'Jean Rouch': 1, 'Laurence Olivier': 1, 'Ross McElwee': 1, 'Aleksandr Sokurov': 2, 'Geoffrey Wright': 1, 'Gillo Pontecorvo': 1, 'Kent Mackenzie': 1, 'Alexander Payne': 4, 'Norman Jewison': 2, 'Akira Kurosawa': 6, 'Pablo Berger': 1, 'Lee Daniels': 1, 'Oliver Hirschbiegel': 1, 'Richard Marquand': 1, 'Spike Jonze': 2, 'Randal Kleiser': 1, 'John Landis': 1, 'Laura Poitras': 1, 'Anthony Harvey': 1, 'Alain Resnais': 3, 'Gordon Parks Jr.': 1, 'Joel Coen, Ethan Coen': 5, 'John Woo': 2, 'Steven Spielberg': 11, 'Cecil B. DeMille': 1, 'Bernard Rose': 1, 'Andr_\\xa9 Delvaux': 1, 'Asif Kapadia': 1, 'Michelle Blasky': 1, 'Jackie Chan': 1, 'Mark Sandrich': 1, 'Edwin S. Porter': 1, 'Michel Hazanavicius': 1, 'David Lean': 6, 'Federico Fellini': 6, 'Stanley Kubrick': 11, 'Leslie Arliss': 1, 'Robert Bresson': 5, 'Robert Mulligan': 1, 'Sergio Leone': 3, 'Giuseppe Tornatore': 1, 'Michael Powell, Emeric Pressburger': 5, 'Sergei M. Eisenstein': 4, 'James L. Brooks': 2, 'Satyajit Ray': 4, 'Christopher Nolan': 4, 'Terry Zwigoff': 1, 'Frank Capra': 5, 'Xavier Beauvois': 1, 'Guy Ritchie': 1, 'Phil Alden Robinson': 1, 'Andr_\\xa9 T_\\xa9chin_\\xa9': 1, 'Fred Schepisi': 1, 'Robert Hamer': 1, 'Russ Meyer': 1, 'Vittorio De Sica': 3, 'Agnieszka Holland': 1, 'Maurice Pialat': 1, 'Emir Kusturica': 1, 'Mervyn LeRoy': 3, 'Frank Darabont': 1, 'Lawrence Kasdan': 3, 'Sacha Gervasi': 1, 'Phil Karlson': 1, 'Dusan Makavejev': 1, 'Vincente Minnelli': 6, 'Fernando Meirelles': 1, 'Michael Powell': 1, 'Dario Argento': 2, 'Raoul Ruiz': 2, 'Mira Nair': 1, 'Randa Haines': 1, 'Chantal Akerman': 2, 'Anthony Mann': 4, 'Nanni Moretti': 2, 'Wolfgang Becker': 1, 'Stanley Kwan': 1, 'Glauber Rocha': 2, 'Peter Yates': 2, 'Edward Zwick': 1, 'Irvin Kershner': 1, 'Kevin Costner': 1, 'Steve Kloves': 1, 'Edgar G. Ulmer': 2, 'Martin Brest': 1, 'Hal Ashby': 2, 'Gaspar No_\\xa9': 1, 'Jon Jost': 1, 'Armando Iannucci': 1, 'Wes Anderson': 3, 'Bob Clark': 1, 'James Algar, Samuel Armstrong, Ford Beebe Jr., Norman Ferguson, Jim Handley, T. Hee, Wilfred Jackson, Hamilton Luske, Bill Roberts, Paul Satterfield, Ben Sharpsteen': 1, 'George Stevens': 5, 'Vincent Gallo': 1, 'Marleen Gorris': 1, 'David Schmoeller': 1, 'Edward Dmytryk': 1, 'Marc Caro, Jean-Pierre Jeunet': 1, 'Yash Chopra': 1, 'Roland Emmerich': 1, 'Dani_\\xc6le Huillet, Jean-Marie Straub': 1, 'Hiroshi Teshigahara': 1, 'Clyde Bruckman, Buster Keaton': 1, 'Tom Tykwer': 1, 'Georges M_\\xa9li_\\xc6s': 1, 'Bruce Conner': 1, 'Ida Lupino': 1, 'Frank Tashlin': 1, 'Mario Bava': 1, 'Edward Yang': 2, 'James Frawley': 1, 'Ken Russell': 1, 'Roberto Rossellini': 4, 'Robin Hardy': 1, 'Pier Paolo Pasolini': 2, 'Stan Brakhage': 1, 'Claire Denis': 2, 'Jean Eustache': 1, 'Joy Batchelor, John Halas': 1, 'George Miller': 1, 'King Hu': 2, 'Jerry Lewis': 2, 'John Boorman': 2, 'Charles Vidor': 1, 'J_\\x99z_\\x95 Itami': 1, 'George Roy Hill': 2, 'Trey Parker': 1, 'Frederick Wiseman': 1, 'Fatih Akin': 1, 'David O. Russell': 2, 'Cheh Chang': 1, 'Robert Altman': 6, 'Marco Tullio Giordana': 1, 'Sacha Guitry': 1, 'Peter Jackson': 4, 'Hayao Miyazaki': 2, 'Ki-duk Kim': 1, 'Danny Boyle, Loveleen Tandan': 1, 'Jean-Pierre Jeunet': 2, 'Brian De Palma': 3, 'Guy Hamilton': 1, 'Andrea Arnold': 1, 'Brad Bird': 1, 'James Ivory': 1, 'Henri-Georges Clouzot': 2, 'John Frankenheimer': 2, 'Jim Sheridan': 1, 'Chia-Liang Liu': 1, 'Dorothy Arzner, Roy Del Ruth': 1, 'Rob Reiner': 4, 'Ren_\\xa9 Cl_\\xa9ment': 1, 'Mohsen Makhmalbaf': 2, 'Paolo Taviani, Vittorio Taviani': 1, 'Marcel Camus': 1, 'Penny Marshall': 1, 'Marcel Oph__ls': 2, 'Karel Kachyna': 1, 'Neil Jordan': 2, 'Todd Haynes': 2, 'Robert Benton': 1, 'John Singleton': 1, 'Fabi__n Bielinsky': 1, \"Shin'ya Tsukamoto\": 1, 'Lotte Reiniger, Carl Koch': 1, 'King Vidor': 2, 'George Lucas': 2, 'George Marshall': 1, 'Jean Renoir': 6, 'David Cronenberg': 4, 'Chris Noonan': 1, 'William Cameron Menzies': 1, 'Oliver Stone': 6, 'Frantisek Vl__cil': 1, 'Jean-Pierre Melville': 2, 'Alfonso Cuar__n': 2, 'Bill Forsyth': 2, 'Jos_\\xa9 Padilha, Felipe Lacerda': 1, 'Elia Kazan': 3, 'Doug Pray': 1, 'Joseph Losey': 1, 'Andrzej Munk, Witold Lesiewicz': 1, 'Stuart Rosenberg': 1, 'Jane Campion': 1, 'Ousmane Sembene': 2, 'Kaneto Shind_\\x95': 1, 'John Madden': 1, 'Danis Tanovic': 1, 'John Carpenter': 3, 'Tod Browning': 3, 'John Schlesinger': 1, 'Humberto Sol__s': 1, 'Charles Burnett': 1, 'John Waters': 1, 'Francis Ford Coppola': 5, 'Bj__rn Runge': 1, 'Michelangelo Antonioni': 6, 'Haifaa Al-Mansour': 1, 'Michael Curtiz, William Keighley': 1, 'Bobby Farrelly, Peter Farrelly': 1, 'Nelson Pereira dos Santos': 1, 'Jonathan Glazer': 1, 'Jee-woon Kim': 1, 'Damien Chazelle': 1, 'Roman Polanski': 4, 'Serif G__ren, Yilmaz G__ney': 1, 'Charles Chaplin': 5, 'Quentin Tarantino': 4, 'Mehboob Khan': 1, 'Tom__s Guti_\\xa9rrez Alea': 1, 'Stanley Donen': 1, 'Todd Phillips': 1, 'Olivier Dahan': 1, 'Tomas Alfredson': 2, 'Sam Peckinpah': 4, 'John Carney': 1, 'Jean-Pierre Dardenne, Luc Dardenne': 2, 'Robert J. Flaherty': 2, 'Michael Snow': 1, 'Luis Puenzo': 1, 'Abel Ferrara': 1, 'R_\\xa9my Belvaux, Andr_\\xa9 Bonzel, Beno__t Poelvoorde': 1, 'Matteo Garrone': 1, 'Monte Hellman': 1, 'Gabriel Axel': 1, 'Bob Rafelson': 2}\n"
     ]
    }
   ],
   "source": [
    "directors = {}\n",
    "\n",
    "for row in films[1:]:\n",
    "    director = row[13]\n",
    "    if director in directors:\n",
    "        directors[director] += 1\n",
    "    else:\n",
    "        directors[director] = 1\n",
    "\n",
    "print(directors)"
   ]
  },
  {
   "cell_type": "code",
   "execution_count": null,
   "metadata": {
    "collapsed": true
   },
   "outputs": [],
   "source": []
  },
  {
   "cell_type": "code",
   "execution_count": null,
   "metadata": {
    "collapsed": true
   },
   "outputs": [],
   "source": []
  }
 ],
 "metadata": {
  "kernelspec": {
   "display_name": "Python 2",
   "language": "python",
   "name": "python2"
  },
  "language_info": {
   "codemirror_mode": {
    "name": "ipython",
    "version": 2
   },
   "file_extension": ".py",
   "mimetype": "text/x-python",
   "name": "python",
   "nbconvert_exporter": "python",
   "pygments_lexer": "ipython2",
   "version": "2.7.12"
  }
 },
 "nbformat": 4,
 "nbformat_minor": 0
}
